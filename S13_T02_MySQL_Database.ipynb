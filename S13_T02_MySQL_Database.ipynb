{
 "cells": [
  {
   "cell_type": "markdown",
   "id": "27da527c",
   "metadata": {},
   "source": [
    "<div class=\"alert alert-block alert-info\"><font size=\"6\"><b>Sprint 13 Task 2 (S13_T02)</b></font><h6 align=\"right\"><u>Author: Alberto Achaval</u></h6></div>"
   ]
  },
  {
   "cell_type": "markdown",
   "id": "767f2329",
   "metadata": {},
   "source": [
    "## <SPAN style=color:#1F618D>Level 1</SPAN>"
   ]
  },
  {
   "cell_type": "markdown",
   "id": "d4de4c29",
   "metadata": {},
   "source": [
    "### <SPAN style=color:#1F618D>Practice 1</SPAN>"
   ]
  },
  {
   "cell_type": "markdown",
   "id": "108d549b",
   "metadata": {},
   "source": [
    "<SPAN style=color:#1F618D>Create a simple relational database using MySQL(https://www.mysql.com/) and connect it to Python.</SPAN>"
   ]
  },
  {
   "cell_type": "markdown",
   "id": "f4cdccc0",
   "metadata": {},
   "source": [
    "We star by importing the required library in order to connect to the database \"s13_t01_erd\" that we designed in previous task:"
   ]
  },
  {
   "cell_type": "code",
   "execution_count": 1,
   "id": "ac0878c1",
   "metadata": {},
   "outputs": [],
   "source": [
    "import mysql.connector\n",
    "import pandas as pd\n",
    "import seaborn as sns\n",
    "import matplotlib.pyplot as plt"
   ]
  },
  {
   "cell_type": "code",
   "execution_count": 2,
   "id": "9c8fb023",
   "metadata": {},
   "outputs": [],
   "source": [
    "password = '#########'"
   ]
  },
  {
   "cell_type": "code",
   "execution_count": 3,
   "id": "c914063a",
   "metadata": {},
   "outputs": [
    {
     "name": "stdout",
     "output_type": "stream",
     "text": [
      "<mysql.connector.connection_cext.CMySQLConnection object at 0x0000023FA6302D30>\n"
     ]
    }
   ],
   "source": [
    "connect = mysql.connector.connect(\n",
    "    host = '127.0.0.1', # localhost\n",
    "    user = \"root\",\n",
    "    passwd = password,\n",
    "    database = \"s13_t01_erd\"\n",
    "    )\n",
    "\n",
    "print(connect)"
   ]
  },
  {
   "cell_type": "markdown",
   "id": "e2d2b6a6",
   "metadata": {},
   "source": [
    "Now we made the connection."
   ]
  },
  {
   "cell_type": "markdown",
   "id": "12224a8b",
   "metadata": {},
   "source": [
    "## <SPAN style=color:#1F618D>Level 2</SPAN>"
   ]
  },
  {
   "cell_type": "markdown",
   "id": "edfc0f53",
   "metadata": {},
   "source": [
    "### <SPAN style=color:#1F618D>Practice 2</SPAN>"
   ]
  },
  {
   "cell_type": "markdown",
   "id": "3965dc6e",
   "metadata": {},
   "source": [
    "<SPAN style=color:#1F618D>Show that you can load some simple queries to a Pandas Dataframe.</SPAN>"
   ]
  },
  {
   "cell_type": "markdown",
   "id": "3521343f",
   "metadata": {},
   "source": [
    "The MySQLCursor of mysql-connector-python (and similar libraries) is used to execute statements to communicate with the MySQL database.\n",
    "\n",
    "Using the methods of it you can execute SQL statements, fetch data from the result sets, call procedures.\n",
    "\n",
    "You can create Cursor object using the cursor() method of the Connection object/class.\n",
    "\n"
   ]
  },
  {
   "cell_type": "code",
   "execution_count": 4,
   "id": "842c10ae",
   "metadata": {},
   "outputs": [
    {
     "name": "stdout",
     "output_type": "stream",
     "text": [
      "('information_schema',)\n",
      "('mysql',)\n",
      "('performance_schema',)\n",
      "('s13_t01_erd',)\n",
      "('sys',)\n"
     ]
    }
   ],
   "source": [
    "cursor = connect.cursor(buffered = True) # Creating a cursor object using the cursor() method\n",
    "cursor.execute(\"SHOW DATABASES\") # This method accepts a MySQL query as a parameter and executes the given query.\n",
    "\n",
    "for dbs in cursor:\n",
    "    print(dbs)"
   ]
  },
  {
   "cell_type": "markdown",
   "id": "c4b6a575",
   "metadata": {},
   "source": [
    "Let's see the tables from our database:"
   ]
  },
  {
   "cell_type": "code",
   "execution_count": 5,
   "id": "24d11b6d",
   "metadata": {},
   "outputs": [
    {
     "name": "stdout",
     "output_type": "stream",
     "text": [
      "('customer',)\n",
      "('customer_has_store',)\n",
      "('product',)\n",
      "('product_family',)\n",
      "('store',)\n",
      "('store_has_product',)\n",
      "('transaction',)\n",
      "('worker',)\n"
     ]
    }
   ],
   "source": [
    "cursor.execute(\"SHOW TABLES\")\n",
    "\n",
    "for tables in cursor:\n",
    "    print(tables)"
   ]
  },
  {
   "cell_type": "markdown",
   "id": "439dccf2",
   "metadata": {},
   "source": [
    "Now let's see the columns we have in customer table:"
   ]
  },
  {
   "cell_type": "code",
   "execution_count": 6,
   "id": "12ca60bd",
   "metadata": {},
   "outputs": [
    {
     "name": "stdout",
     "output_type": "stream",
     "text": [
      "('customer_id', b'int', 'NO', 'PRI', None, 'auto_increment')\n",
      "('customer_name', b'varchar(20)', 'NO', '', None, '')\n",
      "('customer_mail', b'varchar(20)', 'YES', '', None, '')\n",
      "('customer_phone', b'varchar(12)', 'YES', '', None, '')\n",
      "('customer_birth', b'date', 'NO', '', None, '')\n"
     ]
    }
   ],
   "source": [
    "cursor.execute(\"SHOW COLUMNS FROM customer\")\n",
    "\n",
    "customer_columns = []\n",
    "for column in cursor:\n",
    "    customer_columns.append(column[0])\n",
    "    print(column)"
   ]
  },
  {
   "cell_type": "markdown",
   "id": "22caa60f",
   "metadata": {},
   "source": [
    "DataBase is empty, let's add some data:"
   ]
  },
  {
   "cell_type": "code",
   "execution_count": 18,
   "id": "550f916e",
   "metadata": {},
   "outputs": [],
   "source": [
    "cursor.execute(\"\"\"\n",
    "INSERT INTO customer (customer_name, customer_mail, customer_phone, customer_birth) VALUES\n",
    "('Alberto', 'alberto@mail.com', '123-456-789', '2000-12-03'),\n",
    "('Ines', 'Ines@mail.com', '123-456-789', '2000-12-03'),\n",
    "('Jose', 'Jose@mail.com', '123-456-789', '2000-12-03'),\n",
    "('Manolo', 'Manolo@mail.com', '123-456-789', '2000-12-03'),\n",
    "('Xavi', 'Xavi@mail.com', '123-456-789', '2000-12-03'),\n",
    "('Richard', 'Richard@mail.com', '123-456-789', '2000-12-03'),\n",
    "('Clara', 'Clara@mail.com', '123-456-789', '2000-12-03'),\n",
    "('Clotilde', 'Clotilde@mail.com', '123-456-789', '2000-12-03');\n",
    "\"\"\")"
   ]
  },
  {
   "cell_type": "markdown",
   "id": "ee51a668",
   "metadata": {},
   "source": [
    "Let's see the data we have just loaded:"
   ]
  },
  {
   "cell_type": "code",
   "execution_count": 7,
   "id": "09854e6c",
   "metadata": {},
   "outputs": [
    {
     "name": "stdout",
     "output_type": "stream",
     "text": [
      "(1, 'Alberto', 'alberto@mail.com', '123-456-789', datetime.date(2000, 12, 3))\n",
      "(2, 'Ines', 'Ines@mail.com', '123-456-789', datetime.date(2000, 12, 3))\n",
      "(3, 'Jose', 'Jose@mail.com', '123-456-789', datetime.date(2000, 12, 3))\n",
      "(4, 'Manolo', 'Manolo@mail.com', '123-456-789', datetime.date(2000, 12, 3))\n",
      "(5, 'Xavi', 'Xavi@mail.com', '123-456-789', datetime.date(2000, 12, 3))\n",
      "(6, 'Richard', 'Richard@mail.com', '123-456-789', datetime.date(2000, 12, 3))\n",
      "(7, 'Clara', 'Clara@mail.com', '123-456-789', datetime.date(2000, 12, 3))\n",
      "(8, 'Clotilde', 'Clotilde@mail.com', '123-456-789', datetime.date(2000, 12, 3))\n"
     ]
    }
   ],
   "source": [
    "cursor.execute(\"SELECT * FROM customer\")\n",
    "customer = cursor.fetchall()\n",
    "\n",
    "for row in customer:\n",
    "    print(row)"
   ]
  },
  {
   "cell_type": "markdown",
   "id": "64e8738d",
   "metadata": {},
   "source": [
    "Finally, let's present the data in a more familiar way:"
   ]
  },
  {
   "cell_type": "code",
   "execution_count": 8,
   "id": "185db54e",
   "metadata": {},
   "outputs": [
    {
     "data": {
      "text/html": [
       "<div>\n",
       "<style scoped>\n",
       "    .dataframe tbody tr th:only-of-type {\n",
       "        vertical-align: middle;\n",
       "    }\n",
       "\n",
       "    .dataframe tbody tr th {\n",
       "        vertical-align: top;\n",
       "    }\n",
       "\n",
       "    .dataframe thead th {\n",
       "        text-align: right;\n",
       "    }\n",
       "</style>\n",
       "<table border=\"1\" class=\"dataframe\">\n",
       "  <thead>\n",
       "    <tr style=\"text-align: right;\">\n",
       "      <th></th>\n",
       "      <th>customer_id</th>\n",
       "      <th>customer_name</th>\n",
       "      <th>customer_mail</th>\n",
       "      <th>customer_phone</th>\n",
       "      <th>customer_birth</th>\n",
       "    </tr>\n",
       "  </thead>\n",
       "  <tbody>\n",
       "    <tr>\n",
       "      <th>0</th>\n",
       "      <td>1</td>\n",
       "      <td>Alberto</td>\n",
       "      <td>alberto@mail.com</td>\n",
       "      <td>123-456-789</td>\n",
       "      <td>2000-12-03</td>\n",
       "    </tr>\n",
       "    <tr>\n",
       "      <th>1</th>\n",
       "      <td>2</td>\n",
       "      <td>Ines</td>\n",
       "      <td>Ines@mail.com</td>\n",
       "      <td>123-456-789</td>\n",
       "      <td>2000-12-03</td>\n",
       "    </tr>\n",
       "    <tr>\n",
       "      <th>2</th>\n",
       "      <td>3</td>\n",
       "      <td>Jose</td>\n",
       "      <td>Jose@mail.com</td>\n",
       "      <td>123-456-789</td>\n",
       "      <td>2000-12-03</td>\n",
       "    </tr>\n",
       "    <tr>\n",
       "      <th>3</th>\n",
       "      <td>4</td>\n",
       "      <td>Manolo</td>\n",
       "      <td>Manolo@mail.com</td>\n",
       "      <td>123-456-789</td>\n",
       "      <td>2000-12-03</td>\n",
       "    </tr>\n",
       "    <tr>\n",
       "      <th>4</th>\n",
       "      <td>5</td>\n",
       "      <td>Xavi</td>\n",
       "      <td>Xavi@mail.com</td>\n",
       "      <td>123-456-789</td>\n",
       "      <td>2000-12-03</td>\n",
       "    </tr>\n",
       "    <tr>\n",
       "      <th>5</th>\n",
       "      <td>6</td>\n",
       "      <td>Richard</td>\n",
       "      <td>Richard@mail.com</td>\n",
       "      <td>123-456-789</td>\n",
       "      <td>2000-12-03</td>\n",
       "    </tr>\n",
       "    <tr>\n",
       "      <th>6</th>\n",
       "      <td>7</td>\n",
       "      <td>Clara</td>\n",
       "      <td>Clara@mail.com</td>\n",
       "      <td>123-456-789</td>\n",
       "      <td>2000-12-03</td>\n",
       "    </tr>\n",
       "    <tr>\n",
       "      <th>7</th>\n",
       "      <td>8</td>\n",
       "      <td>Clotilde</td>\n",
       "      <td>Clotilde@mail.com</td>\n",
       "      <td>123-456-789</td>\n",
       "      <td>2000-12-03</td>\n",
       "    </tr>\n",
       "  </tbody>\n",
       "</table>\n",
       "</div>"
      ],
      "text/plain": [
       "   customer_id customer_name      customer_mail customer_phone customer_birth\n",
       "0            1       Alberto   alberto@mail.com    123-456-789     2000-12-03\n",
       "1            2          Ines      Ines@mail.com    123-456-789     2000-12-03\n",
       "2            3          Jose      Jose@mail.com    123-456-789     2000-12-03\n",
       "3            4        Manolo    Manolo@mail.com    123-456-789     2000-12-03\n",
       "4            5          Xavi      Xavi@mail.com    123-456-789     2000-12-03\n",
       "5            6       Richard   Richard@mail.com    123-456-789     2000-12-03\n",
       "6            7         Clara     Clara@mail.com    123-456-789     2000-12-03\n",
       "7            8      Clotilde  Clotilde@mail.com    123-456-789     2000-12-03"
      ]
     },
     "execution_count": 8,
     "metadata": {},
     "output_type": "execute_result"
    }
   ],
   "source": [
    "customer_df = pd.DataFrame(customer, columns = customer_columns)\n",
    "customer_df"
   ]
  },
  {
   "cell_type": "markdown",
   "id": "61bf6251",
   "metadata": {},
   "source": [
    "Ahh, it soothes me!! 😎"
   ]
  },
  {
   "cell_type": "markdown",
   "id": "e6a4b0d4",
   "metadata": {},
   "source": [
    "## <SPAN style=color:#1F618D>Level 3</SPAN>"
   ]
  },
  {
   "cell_type": "markdown",
   "id": "3252a6df",
   "metadata": {},
   "source": [
    "### <SPAN style=color:#1F618D>Practice 3</SPAN>"
   ]
  },
  {
   "cell_type": "markdown",
   "id": "39e9e8bf",
   "metadata": {},
   "source": [
    "<SPAN style=color:#1F618D>Generate a graph summarizing the data.</SPAN>"
   ]
  },
  {
   "cell_type": "markdown",
   "id": "1d9de2df",
   "metadata": {},
   "source": [
    "Let's do some graphs for the **products** table:"
   ]
  },
  {
   "cell_type": "code",
   "execution_count": 9,
   "id": "dae4c64c",
   "metadata": {},
   "outputs": [
    {
     "name": "stdout",
     "output_type": "stream",
     "text": [
      "('product_id', b'int', 'NO', 'PRI', None, '')\n",
      "('product_name', b'varchar(20)', 'NO', '', None, '')\n",
      "('product_stock', b'int', 'NO', '', None, '')\n",
      "('product_cost', b'decimal(5,2)', 'NO', '', None, '')\n",
      "('fproduct_id', b'int', 'NO', 'MUL', None, '')\n"
     ]
    }
   ],
   "source": [
    "cursor.execute(\"SHOW COLUMNS FROM product\")\n",
    "\n",
    "product_columns = []\n",
    "for column in cursor:\n",
    "    product_columns.append(column[0])\n",
    "    print(column)"
   ]
  },
  {
   "cell_type": "code",
   "execution_count": 10,
   "id": "4007db6c",
   "metadata": {},
   "outputs": [
    {
     "name": "stdout",
     "output_type": "stream",
     "text": [
      "(1, 'Xiomi Redmi 10', 1, Decimal('179.99'), 1)\n",
      "(2, 'Redmi 10C', 0, Decimal('159.99'), 1)\n",
      "(3, 'Poco F4', 1, Decimal('599.90'), 1)\n",
      "(4, 'Honor X8', 3, Decimal('249.00'), 1)\n",
      "(5, 'Xiomi Redmi 11', 8, Decimal('189.99'), 1)\n",
      "(6, 'Alcatel 5033D', 2, Decimal('51.00'), 1)\n",
      "(7, 'Samsung M32', 2, Decimal('219.99'), 1)\n",
      "(8, 'Alcatel 1SE', 12, Decimal('99.00'), 1)\n",
      "(9, 'ZTE Blade A31', 10, Decimal('84.23'), 1)\n",
      "(10, 'Amazfit GTR 2', 35, Decimal('82.31'), 2)\n",
      "(11, 'Samsung Watch', 2, Decimal('177.32'), 2)\n",
      "(12, 'Fitbit 3', 20, Decimal('33.20'), 2)\n",
      "(13, 'Apple Watch', 4, Decimal('589.90'), 2)\n",
      "(14, 'Epson EcoTank', 13, Decimal('87.90'), 3)\n",
      "(15, 'HP Laser Jet', 8, Decimal('189.00'), 3)\n",
      "(16, 'HP DeskJet', 10, Decimal('77.05'), 3)\n"
     ]
    }
   ],
   "source": [
    "cursor.execute(\"SELECT * FROM product\")\n",
    "product = cursor.fetchall()\n",
    "\n",
    "for row in product:\n",
    "    print(row)"
   ]
  },
  {
   "cell_type": "code",
   "execution_count": 11,
   "id": "f8bbef43",
   "metadata": {},
   "outputs": [
    {
     "data": {
      "text/html": [
       "<div>\n",
       "<style scoped>\n",
       "    .dataframe tbody tr th:only-of-type {\n",
       "        vertical-align: middle;\n",
       "    }\n",
       "\n",
       "    .dataframe tbody tr th {\n",
       "        vertical-align: top;\n",
       "    }\n",
       "\n",
       "    .dataframe thead th {\n",
       "        text-align: right;\n",
       "    }\n",
       "</style>\n",
       "<table border=\"1\" class=\"dataframe\">\n",
       "  <thead>\n",
       "    <tr style=\"text-align: right;\">\n",
       "      <th></th>\n",
       "      <th>product_id</th>\n",
       "      <th>product_name</th>\n",
       "      <th>product_stock</th>\n",
       "      <th>product_cost</th>\n",
       "      <th>fproduct_id</th>\n",
       "    </tr>\n",
       "  </thead>\n",
       "  <tbody>\n",
       "    <tr>\n",
       "      <th>0</th>\n",
       "      <td>1</td>\n",
       "      <td>Xiomi Redmi 10</td>\n",
       "      <td>1</td>\n",
       "      <td>179.99</td>\n",
       "      <td>1</td>\n",
       "    </tr>\n",
       "    <tr>\n",
       "      <th>1</th>\n",
       "      <td>2</td>\n",
       "      <td>Redmi 10C</td>\n",
       "      <td>0</td>\n",
       "      <td>159.99</td>\n",
       "      <td>1</td>\n",
       "    </tr>\n",
       "    <tr>\n",
       "      <th>2</th>\n",
       "      <td>3</td>\n",
       "      <td>Poco F4</td>\n",
       "      <td>1</td>\n",
       "      <td>599.90</td>\n",
       "      <td>1</td>\n",
       "    </tr>\n",
       "    <tr>\n",
       "      <th>3</th>\n",
       "      <td>4</td>\n",
       "      <td>Honor X8</td>\n",
       "      <td>3</td>\n",
       "      <td>249.00</td>\n",
       "      <td>1</td>\n",
       "    </tr>\n",
       "    <tr>\n",
       "      <th>4</th>\n",
       "      <td>5</td>\n",
       "      <td>Xiomi Redmi 11</td>\n",
       "      <td>8</td>\n",
       "      <td>189.99</td>\n",
       "      <td>1</td>\n",
       "    </tr>\n",
       "    <tr>\n",
       "      <th>5</th>\n",
       "      <td>6</td>\n",
       "      <td>Alcatel 5033D</td>\n",
       "      <td>2</td>\n",
       "      <td>51.00</td>\n",
       "      <td>1</td>\n",
       "    </tr>\n",
       "    <tr>\n",
       "      <th>6</th>\n",
       "      <td>7</td>\n",
       "      <td>Samsung M32</td>\n",
       "      <td>2</td>\n",
       "      <td>219.99</td>\n",
       "      <td>1</td>\n",
       "    </tr>\n",
       "    <tr>\n",
       "      <th>7</th>\n",
       "      <td>8</td>\n",
       "      <td>Alcatel 1SE</td>\n",
       "      <td>12</td>\n",
       "      <td>99.00</td>\n",
       "      <td>1</td>\n",
       "    </tr>\n",
       "    <tr>\n",
       "      <th>8</th>\n",
       "      <td>9</td>\n",
       "      <td>ZTE Blade A31</td>\n",
       "      <td>10</td>\n",
       "      <td>84.23</td>\n",
       "      <td>1</td>\n",
       "    </tr>\n",
       "    <tr>\n",
       "      <th>9</th>\n",
       "      <td>10</td>\n",
       "      <td>Amazfit GTR 2</td>\n",
       "      <td>35</td>\n",
       "      <td>82.31</td>\n",
       "      <td>2</td>\n",
       "    </tr>\n",
       "    <tr>\n",
       "      <th>10</th>\n",
       "      <td>11</td>\n",
       "      <td>Samsung Watch</td>\n",
       "      <td>2</td>\n",
       "      <td>177.32</td>\n",
       "      <td>2</td>\n",
       "    </tr>\n",
       "    <tr>\n",
       "      <th>11</th>\n",
       "      <td>12</td>\n",
       "      <td>Fitbit 3</td>\n",
       "      <td>20</td>\n",
       "      <td>33.20</td>\n",
       "      <td>2</td>\n",
       "    </tr>\n",
       "    <tr>\n",
       "      <th>12</th>\n",
       "      <td>13</td>\n",
       "      <td>Apple Watch</td>\n",
       "      <td>4</td>\n",
       "      <td>589.90</td>\n",
       "      <td>2</td>\n",
       "    </tr>\n",
       "    <tr>\n",
       "      <th>13</th>\n",
       "      <td>14</td>\n",
       "      <td>Epson EcoTank</td>\n",
       "      <td>13</td>\n",
       "      <td>87.90</td>\n",
       "      <td>3</td>\n",
       "    </tr>\n",
       "    <tr>\n",
       "      <th>14</th>\n",
       "      <td>15</td>\n",
       "      <td>HP Laser Jet</td>\n",
       "      <td>8</td>\n",
       "      <td>189.00</td>\n",
       "      <td>3</td>\n",
       "    </tr>\n",
       "    <tr>\n",
       "      <th>15</th>\n",
       "      <td>16</td>\n",
       "      <td>HP DeskJet</td>\n",
       "      <td>10</td>\n",
       "      <td>77.05</td>\n",
       "      <td>3</td>\n",
       "    </tr>\n",
       "  </tbody>\n",
       "</table>\n",
       "</div>"
      ],
      "text/plain": [
       "    product_id    product_name  product_stock product_cost  fproduct_id\n",
       "0            1  Xiomi Redmi 10              1       179.99            1\n",
       "1            2       Redmi 10C              0       159.99            1\n",
       "2            3         Poco F4              1       599.90            1\n",
       "3            4        Honor X8              3       249.00            1\n",
       "4            5  Xiomi Redmi 11              8       189.99            1\n",
       "5            6   Alcatel 5033D              2        51.00            1\n",
       "6            7     Samsung M32              2       219.99            1\n",
       "7            8     Alcatel 1SE             12        99.00            1\n",
       "8            9   ZTE Blade A31             10        84.23            1\n",
       "9           10   Amazfit GTR 2             35        82.31            2\n",
       "10          11   Samsung Watch              2       177.32            2\n",
       "11          12        Fitbit 3             20        33.20            2\n",
       "12          13     Apple Watch              4       589.90            2\n",
       "13          14   Epson EcoTank             13        87.90            3\n",
       "14          15    HP Laser Jet              8       189.00            3\n",
       "15          16      HP DeskJet             10        77.05            3"
      ]
     },
     "execution_count": 11,
     "metadata": {},
     "output_type": "execute_result"
    }
   ],
   "source": [
    "product_df = pd.DataFrame(product, columns = product_columns)\n",
    "product_df"
   ]
  },
  {
   "cell_type": "markdown",
   "id": "426f76f0",
   "metadata": {},
   "source": [
    "So, this is the products database. Now let's make some graph interpretation:"
   ]
  },
  {
   "cell_type": "code",
   "execution_count": 12,
   "id": "db28c24a",
   "metadata": {},
   "outputs": [
    {
     "data": {
      "image/png": "[encoded data removed]",
      "text/plain": [
       "<Figure size 1152x360 with 1 Axes>"
      ]
     },
     "metadata": {
      "needs_background": "light"
     },
     "output_type": "display_data"
    }
   ],
   "source": [
    "fig, ax = plt.subplots(figsize = (16,5))\n",
    "sns.countplot(x = product_df['fproduct_id'])\n",
    "plt.title('Family products distribution', loc = 'left', fontsize = 20)\n",
    "plt.show()"
   ]
  },
  {
   "cell_type": "code",
   "execution_count": 13,
   "id": "b3fea74c",
   "metadata": {},
   "outputs": [
    {
     "name": "stdout",
     "output_type": "stream",
     "text": [
      "(1, 'A', 'Smartphones')\n",
      "(2, 'B', 'Smartwatch')\n",
      "(3, 'C', 'Printers')\n",
      "(4, 'D', 'Cars')\n",
      "(5, 'E', 'Toys')\n",
      "(6, 'F', 'Wallets')\n",
      "(7, 'G', 'Notebook')\n",
      "(8, 'H', 'Kindle')\n",
      "(9, 'I', 'Headphones')\n",
      "(10, 'J', 'Charger')\n",
      "(11, 'K', 'Shaver')\n",
      "(12, 'L', 'Toothbrush')\n",
      "(13, 'M', 'Robot')\n",
      "(14, 'N', 'Kitchen')\n",
      "(15, 'O', 'TV')\n",
      "(16, 'P', 'DVD')\n",
      "(17, 'Q', 'Musicplayer')\n",
      "(18, 'R', 'Projector')\n"
     ]
    }
   ],
   "source": [
    "cursor.execute(\"SELECT * FROM product_family\")\n",
    "product = cursor.fetchall()\n",
    "\n",
    "for row in product:\n",
    "    print(row)"
   ]
  },
  {
   "cell_type": "markdown",
   "id": "2673e2d1",
   "metadata": {},
   "source": [
    "We have more products from the Smartphone family product. Let's see about cost of inventory/stock:"
   ]
  },
  {
   "cell_type": "code",
   "execution_count": 14,
   "id": "f1ed80c1",
   "metadata": {},
   "outputs": [],
   "source": [
    "product_df['product_stock$'] = (product_df['product_stock'] * product_df['product_cost']).astype('float64')"
   ]
  },
  {
   "cell_type": "code",
   "execution_count": 15,
   "id": "0057b539",
   "metadata": {},
   "outputs": [],
   "source": [
    "k = product_df.groupby('fproduct_id')['product_stock$'].sum()"
   ]
  },
  {
   "cell_type": "code",
   "execution_count": 16,
   "id": "46271bc6",
   "metadata": {},
   "outputs": [
    {
     "name": "stdout",
     "output_type": "stream",
     "text": [
      "<class 'pandas.core.frame.DataFrame'>\n",
      "RangeIndex: 16 entries, 0 to 15\n",
      "Data columns (total 6 columns):\n",
      " #   Column          Non-Null Count  Dtype  \n",
      "---  ------          --------------  -----  \n",
      " 0   product_id      16 non-null     int64  \n",
      " 1   product_name    16 non-null     object \n",
      " 2   product_stock   16 non-null     int64  \n",
      " 3   product_cost    16 non-null     object \n",
      " 4   fproduct_id     16 non-null     int64  \n",
      " 5   product_stock$  16 non-null     float64\n",
      "dtypes: float64(1), int64(3), object(2)\n",
      "memory usage: 896.0+ bytes\n"
     ]
    }
   ],
   "source": [
    "product_df.info()"
   ]
  },
  {
   "cell_type": "code",
   "execution_count": 17,
   "id": "2f8a6ccf",
   "metadata": {},
   "outputs": [
    {
     "data": {
      "image/png": "[encoded data removed]",
      "text/plain": [
       "<Figure size 1152x360 with 1 Axes>"
      ]
     },
     "metadata": {
      "needs_background": "light"
     },
     "output_type": "display_data"
    }
   ],
   "source": [
    "fig, ax = plt.subplots(figsize = (16,5))\n",
    "sns.barplot(x = k.index, y = k.values)\n",
    "plt.title('Family products stock in $', loc = 'left', fontsize = 20)\n",
    "plt.show()"
   ]
  },
  {
   "cell_type": "markdown",
   "id": "5838d30f",
   "metadata": {},
   "source": [
    "Smartwatches family products has more $ in stock."
   ]
  },
  {
   "cell_type": "markdown",
   "id": "799f9bf3",
   "metadata": {},
   "source": [
    "Commit changes to database and close:"
   ]
  },
  {
   "cell_type": "code",
   "execution_count": null,
   "id": "a17eee57",
   "metadata": {},
   "outputs": [],
   "source": [
    "connect.commit()"
   ]
  },
  {
   "cell_type": "code",
   "execution_count": null,
   "id": "dd436f2b",
   "metadata": {},
   "outputs": [],
   "source": [
    "connect.close()"
   ]
  }
 ],
 "metadata": {
  "kernelspec": {
   "display_name": "Python 3 (ipykernel)",
   "language": "python",
   "name": "python3"
  },
  "language_info": {
   "codemirror_mode": {
    "name": "ipython",
    "version": 3
   },
   "file_extension": ".py",
   "mimetype": "text/x-python",
   "name": "python",
   "nbconvert_exporter": "python",
   "pygments_lexer": "ipython3",
   "version": "3.9.7"
  }
 },
 "nbformat": 4,
 "nbformat_minor": 5
}
